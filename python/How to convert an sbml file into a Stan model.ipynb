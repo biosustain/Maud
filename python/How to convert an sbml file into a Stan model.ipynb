{
 "cells": [
  {
   "cell_type": "markdown",
   "metadata": {},
   "source": [
    "This notebook shows how to use and test the script I made for converting sbml files to stan files.\n",
    "\n",
    "## How to run the sbml-to-stan script\n",
    "First let's check that there is an appropriate sbml file at the relative path `../data_in/t_brucei.xml`"
   ]
  },
  {
   "cell_type": "code",
   "execution_count": 1,
   "metadata": {},
   "outputs": [],
   "source": [
    "!head -10 ../data_in/t_brucei.xml"
   ]
  },
  {
   "cell_type": "markdown",
   "metadata": {},
   "source": [
    "It looks like that file exists and contains the string 'SBML'! Now we can run the script:"
   ]
  },
  {
   "cell_type": "code",
   "execution_count": 2,
   "metadata": {},
   "outputs": [
    {
     "name": "stdout",
     "output_type": "stream",
     "text": [
      "Parsing sbml input...\n",
      "Converting parsed sbml to Stan...\n",
      "Writing Stan code to /Users/tedgro/Code/ecoli_stan/python/../stan/autogen/t_brucei.stan...\n",
      "Finished!\n"
     ]
    }
   ],
   "source": [
    "%run convert_sbml_to_stan.py --input_file ../data_in/t_brucei.xml"
   ]
  },
  {
   "cell_type": "markdown",
   "metadata": {},
   "source": [
    "## Quickly sanity checking the output\n",
    "\n",
    "It (says that it) worked! Let's have a quick look at the output to see if it looks like it should:"
   ]
  },
  {
   "cell_type": "code",
   "execution_count": 3,
   "metadata": {},
   "outputs": [
    {
     "name": "stdout",
     "output_type": "stream",
     "text": [
      "real Function_for_Glucose_transport(real GlcE,real GlcI,real K1Glc,real Vm1,real Vt,real afac,real tot_cell){\n",
      "  return tot_cell / Vt * Vm1 * (GlcE - GlcI) / (K1Glc + GlcE + GlcI + afac * GlcE * GlcI / K1Glc);\n",
      "}\n",
      "\n",
      "real Function_for_Hexokinase(real ADPg,real ATPg,real Glc6P,real GlcI,real K2ADPg,real K2ATPg,real K2Glc6P,real K2GlcI,real Vm2,real Vt,real tot_cell){\n",
      "  return tot_cell / Vt * Vm2 * GlcI * ATPg / (K2ATPg * K2GlcI * (1 + Glc6P / K2Glc6P + GlcI / K2GlcI) * (1 + ATPg / K2ATPg + ADPg / K2ADPg));\n",
      "}\n",
      "\n",
      "real Function_for_Glucose_phosphate_isomerase(real Fru6P,real Glc6P,real K3Fru6P,real K3Glc6P,real Vm3,real Vt,real glycosome,real tot_cell){\n",
      "  return tot_cell / Vt * Vm3 * (Glc6P / K3Glc6P - Fru6P / K3Fru6P) / (1 + Glc6P / K3Glc6P + Fru6P / K3Fru6P) / glycosome;\n",
      "...\n",
      "\n",
      "vector get_odes(vector fluxes){\n",
      "  real vGlcTr = fluxes[1];\n",
      "  real vHK = fluxes[2];\n",
      "  real vPGI = fluxes[3];\n",
      "  real vPFK = fluxes[4];\n",
      "  real vALD = fluxes[5];\n",
      "  real vTPI = fluxes[6];\n",
      "  real vGAPdh = fluxes[7];\n",
      "  real vGDH = fluxes[8];\n",
      "  real vGPO = fluxes[9];\n",
      "  real vPyrTr = fluxes[10];\n",
      "  real vPGK = fluxes[11];\n",
      "  real vPK = fluxes[12];\n",
      "  real vATPase = fluxes[13];\n",
      "  real vGlyK = fluxes[14];\n",
      "  return [\n",
      "    1.0*vGlcTr-1.0*vHK,  // GlcI\n",
      "    1.0*vPGK+1.0*vGlyK-1.0*vHK-1.0*vPFK,  // Pg\n",
      "    1.0*vHK-1.0*vPGI,  // Glc6P\n",
      "    1.0*vPGI-1.0*vPFK,  // Fru6P\n",
      "    1.0*vPFK-1.0*vALD,  // Fru16BP\n",
      "    1.0*vALD+1.0*vGPO-1.0*vTPI-1.0*vGDH,  // DHAP\n",
      "    1.0*vALD+1.0*vTPI-1.0*vGAPdh,  // GAP\n",
      "    1.0*vGDH-1.0*vGAPdh,  // NAD\n",
      "    1.0*vGAPdh-1.0*vPGK,  // BPGA13\n",
      "    1.0*vGAPdh-1.0*vGDH,  // NADH\n",
      "    1.0*vPK-1.0*vPyrTr,  // Pyr\n",
      "    1.0*vPGK-1.0*vPK,  // Nb\n",
      "    1.0*vPK-1.0*vATPase,  // Pc\n",
      "    1.0*vPyrTr,  // PyrE\n",
      "    1.0*vGlyK,  // Gly\n",
      "    -1.0*vGlcTr  // GlcE\n",
      "  ]';\n",
      "}\n",
      "\n",
      "vector steady_state_equation(vector ode_metabolites,\n",
      "                             vector kinetic_parameters,\n",
      "                             real[] known_reals,\n",
      "                             int[] known_ints){\n",
      "    return get_odes(get_kinetics(ode_metabolites, kinetic_parameters, known_reals));\n",
      "}"
     ]
    }
   ],
   "source": [
    "!head -10 ../stan/autogen/t_brucei.stan\n",
    "print('...')\n",
    "!tail -42 ../stan/autogen/t_brucei.stan"
   ]
  },
  {
   "cell_type": "markdown",
   "metadata": {},
   "source": [
    "This looks roughly correct: at the top of the file there are some functions for finding reaction rates given parameters, and at the bottom there is a function calcluating rates of change of some metabolites, and most importantly a `steady_state_equation` function with the right functional form to use in Stan's equation solver.\n",
    "\n",
    "# Generating a time course with the auto-generated Stan code\n",
    "\n",
    "One way to test if the Stan code really copies the sbml file is to run a time course and compare the output with some numbers generated independently from the same sbml.\n",
    "\n",
    "The required time course can be generated using the following Stan model:"
   ]
  },
  {
   "cell_type": "code",
   "execution_count": 4,
   "metadata": {},
   "outputs": [
    {
     "name": "stdout",
     "output_type": "stream",
     "text": [
      "functions {\r\n",
      "#include REPLACE_THIS_WORD\r\n",
      "  real[] ode(real t,        // time\r\n",
      "             real[] s,      // state\r\n",
      "             real[] theta,  // parameters\r\n",
      "             real[] x_r,    // data (real)\r\n",
      "             int[] x_i){   // data (integer)\r\n",
      "    return to_array_1d(steady_state_equation(to_vector(s), to_vector(theta), x_r, x_i));\r\n",
      "  }\r\n",
      "}\r\n",
      "data {\r\n",
      "  int<lower=1> N_ode;\r\n",
      "  int<lower=1> N_derived;\r\n",
      "  int<lower=1> N_known_real;\r\n",
      "  int<lower=1> P;\r\n",
      "  int<lower=1> T;\r\n",
      "  real initial_metabolite_ode[N_ode];\r\n",
      "  real kinetic_parameters[P];\r\n",
      "  real known_reals[N_known_real];\r\n",
      "  real ts[T];\r\n",
      "  real t0;\r\n",
      "}\r\n",
      "generated quantities {\r\n",
      "  int known_ints[0];\r\n",
      "  real ode_metabolite_sim[T+1,N_ode]; \r\n",
      "  real derived_quantity_sim[T+1, N_derived];\r\n",
      "  ode_metabolite_sim[1] = initial_metabolite_ode;\r\n",
      "  ode_metabolite_sim[2:T+1] = integrate_ode_rk45(ode,\r\n",
      "                                                 initial_metabolite_ode,\r\n",
      "                                                 t0,\r\n",
      "                                                 ts,\r\n",
      "                                                 kinetic_parameters,\r\n",
      "                                                 known_reals,\r\n",
      "                                                 known_ints);\r\n",
      "  for (t in 1:T+1){\r\n",
      "    derived_quantity_sim[t] = get_derived_quantities(to_vector(ode_metabolite_sim[t]), known_reals);\r\n",
      "  }\r\n",
      "}\r\n"
     ]
    }
   ],
   "source": [
    "!cat ../stan/timecourse_model_template.stan"
   ]
  },
  {
   "cell_type": "markdown",
   "metadata": {},
   "source": [
    "The python script below replaces the word `REPLACE_THIS_WORD` above with the relative path to `t_brucei.stan`, then compiles the model and runs it using the initial concentrations and parameter values from `t_brucei.xml`. The results are written to `data_out/timecourse_t_brucei.csv`."
   ]
  },
  {
   "cell_type": "code",
   "execution_count": 5,
   "metadata": {},
   "outputs": [
    {
     "name": "stdout",
     "output_type": "stream",
     "text": [
      "Using cached StanModel\n",
      "Iteration: 1 / 1 [100%]  (Sampling)\n",
      "\n",
      " Elapsed Time: 0 seconds (Warm-up)\n",
      "               0.000432 seconds (Sampling)\n",
      "               0.000432 seconds (Total)\n",
      "\n",
      "/Users/tedgro/.pyenv/versions/3.7.2/lib/python3.7/site-packages/xarray/core/nanops.py:161: RuntimeWarning: Mean of empty slice\n",
      "  return np.nanmean(a, axis=axis, dtype=dtype)\n",
      "Writing results to ../data_out/timecourse_t_brucei.csv...\n",
      "Finished!\n"
     ]
    }
   ],
   "source": [
    "!python test_timecourse.py"
   ]
  },
  {
   "cell_type": "code",
   "execution_count": 7,
   "metadata": {},
   "outputs": [
    {
     "data": {
      "text/html": [
       "<div>\n",
       "<style scoped>\n",
       "    .dataframe tbody tr th:only-of-type {\n",
       "        vertical-align: middle;\n",
       "    }\n",
       "\n",
       "    .dataframe tbody tr th {\n",
       "        vertical-align: top;\n",
       "    }\n",
       "\n",
       "    .dataframe thead th {\n",
       "        text-align: right;\n",
       "    }\n",
       "</style>\n",
       "<table border=\"1\" class=\"dataframe\">\n",
       "  <thead>\n",
       "    <tr style=\"text-align: right;\">\n",
       "      <th></th>\n",
       "      <th>sim_time</th>\n",
       "      <th>BPGA13</th>\n",
       "      <th>DHAP</th>\n",
       "      <th>Fru16BP</th>\n",
       "      <th>Fru6P</th>\n",
       "      <th>GAP</th>\n",
       "      <th>Glc6P</th>\n",
       "      <th>GlcE</th>\n",
       "      <th>GlcI</th>\n",
       "      <th>Gly</th>\n",
       "      <th>...</th>\n",
       "      <th>ATPg</th>\n",
       "      <th>DHAPc</th>\n",
       "      <th>DHAPg</th>\n",
       "      <th>Gly3P</th>\n",
       "      <th>Gly3Pc</th>\n",
       "      <th>Gly3Pg</th>\n",
       "      <th>PEPc</th>\n",
       "      <th>PGAg</th>\n",
       "      <th>Vc</th>\n",
       "      <th>Vg</th>\n",
       "    </tr>\n",
       "  </thead>\n",
       "  <tbody>\n",
       "    <tr>\n",
       "      <th>0</th>\n",
       "      <td>0.0</td>\n",
       "      <td>0.032675</td>\n",
       "      <td>3.89921</td>\n",
       "      <td>16.5371</td>\n",
       "      <td>0.511773</td>\n",
       "      <td>0.039933</td>\n",
       "      <td>2.07199</td>\n",
       "      <td>5.0</td>\n",
       "      <td>0.034001</td>\n",
       "      <td>0.0</td>\n",
       "      <td>...</td>\n",
       "      <td>2.61685</td>\n",
       "      <td>4.015343</td>\n",
       "      <td>1.309058</td>\n",
       "      <td>0.956179</td>\n",
       "      <td>0.984657</td>\n",
       "      <td>0.321012</td>\n",
       "      <td>0.840863</td>\n",
       "      <td>0.671134</td>\n",
       "      <td>5.4554</td>\n",
       "      <td>0.2446</td>\n",
       "    </tr>\n",
       "    <tr>\n",
       "      <th>1</th>\n",
       "      <td>0.2</td>\n",
       "      <td>NaN</td>\n",
       "      <td>NaN</td>\n",
       "      <td>NaN</td>\n",
       "      <td>NaN</td>\n",
       "      <td>NaN</td>\n",
       "      <td>NaN</td>\n",
       "      <td>NaN</td>\n",
       "      <td>NaN</td>\n",
       "      <td>NaN</td>\n",
       "      <td>...</td>\n",
       "      <td>NaN</td>\n",
       "      <td>NaN</td>\n",
       "      <td>NaN</td>\n",
       "      <td>NaN</td>\n",
       "      <td>NaN</td>\n",
       "      <td>NaN</td>\n",
       "      <td>NaN</td>\n",
       "      <td>NaN</td>\n",
       "      <td>5.4554</td>\n",
       "      <td>0.2446</td>\n",
       "    </tr>\n",
       "    <tr>\n",
       "      <th>2</th>\n",
       "      <td>0.4</td>\n",
       "      <td>NaN</td>\n",
       "      <td>NaN</td>\n",
       "      <td>NaN</td>\n",
       "      <td>NaN</td>\n",
       "      <td>NaN</td>\n",
       "      <td>NaN</td>\n",
       "      <td>NaN</td>\n",
       "      <td>NaN</td>\n",
       "      <td>NaN</td>\n",
       "      <td>...</td>\n",
       "      <td>NaN</td>\n",
       "      <td>NaN</td>\n",
       "      <td>NaN</td>\n",
       "      <td>NaN</td>\n",
       "      <td>NaN</td>\n",
       "      <td>NaN</td>\n",
       "      <td>NaN</td>\n",
       "      <td>NaN</td>\n",
       "      <td>5.4554</td>\n",
       "      <td>0.2446</td>\n",
       "    </tr>\n",
       "    <tr>\n",
       "      <th>3</th>\n",
       "      <td>0.6</td>\n",
       "      <td>NaN</td>\n",
       "      <td>NaN</td>\n",
       "      <td>NaN</td>\n",
       "      <td>NaN</td>\n",
       "      <td>NaN</td>\n",
       "      <td>NaN</td>\n",
       "      <td>NaN</td>\n",
       "      <td>NaN</td>\n",
       "      <td>NaN</td>\n",
       "      <td>...</td>\n",
       "      <td>NaN</td>\n",
       "      <td>NaN</td>\n",
       "      <td>NaN</td>\n",
       "      <td>NaN</td>\n",
       "      <td>NaN</td>\n",
       "      <td>NaN</td>\n",
       "      <td>NaN</td>\n",
       "      <td>NaN</td>\n",
       "      <td>5.4554</td>\n",
       "      <td>0.2446</td>\n",
       "    </tr>\n",
       "    <tr>\n",
       "      <th>4</th>\n",
       "      <td>0.8</td>\n",
       "      <td>NaN</td>\n",
       "      <td>NaN</td>\n",
       "      <td>NaN</td>\n",
       "      <td>NaN</td>\n",
       "      <td>NaN</td>\n",
       "      <td>NaN</td>\n",
       "      <td>NaN</td>\n",
       "      <td>NaN</td>\n",
       "      <td>NaN</td>\n",
       "      <td>...</td>\n",
       "      <td>NaN</td>\n",
       "      <td>NaN</td>\n",
       "      <td>NaN</td>\n",
       "      <td>NaN</td>\n",
       "      <td>NaN</td>\n",
       "      <td>NaN</td>\n",
       "      <td>NaN</td>\n",
       "      <td>NaN</td>\n",
       "      <td>5.4554</td>\n",
       "      <td>0.2446</td>\n",
       "    </tr>\n",
       "  </tbody>\n",
       "</table>\n",
       "<p>5 rows × 30 columns</p>\n",
       "</div>"
      ],
      "text/plain": [
       "   sim_time    BPGA13     DHAP  Fru16BP     Fru6P       GAP    Glc6P  GlcE  \\\n",
       "0       0.0  0.032675  3.89921  16.5371  0.511773  0.039933  2.07199   5.0   \n",
       "1       0.2       NaN      NaN      NaN       NaN       NaN      NaN   NaN   \n",
       "2       0.4       NaN      NaN      NaN       NaN       NaN      NaN   NaN   \n",
       "3       0.6       NaN      NaN      NaN       NaN       NaN      NaN   NaN   \n",
       "4       0.8       NaN      NaN      NaN       NaN       NaN      NaN   NaN   \n",
       "\n",
       "       GlcI  Gly   ...       ATPg     DHAPc     DHAPg     Gly3P    Gly3Pc  \\\n",
       "0  0.034001  0.0   ...    2.61685  4.015343  1.309058  0.956179  0.984657   \n",
       "1       NaN  NaN   ...        NaN       NaN       NaN       NaN       NaN   \n",
       "2       NaN  NaN   ...        NaN       NaN       NaN       NaN       NaN   \n",
       "3       NaN  NaN   ...        NaN       NaN       NaN       NaN       NaN   \n",
       "4       NaN  NaN   ...        NaN       NaN       NaN       NaN       NaN   \n",
       "\n",
       "     Gly3Pg      PEPc      PGAg      Vc      Vg  \n",
       "0  0.321012  0.840863  0.671134  5.4554  0.2446  \n",
       "1       NaN       NaN       NaN  5.4554  0.2446  \n",
       "2       NaN       NaN       NaN  5.4554  0.2446  \n",
       "3       NaN       NaN       NaN  5.4554  0.2446  \n",
       "4       NaN       NaN       NaN  5.4554  0.2446  \n",
       "\n",
       "[5 rows x 30 columns]"
      ]
     },
     "execution_count": 7,
     "metadata": {},
     "output_type": "execute_result"
    }
   ],
   "source": [
    "import pandas as pd\n",
    "\n",
    "pd.read_csv('../data_out/timecourse_t_brucei.csv').head()"
   ]
  },
  {
   "cell_type": "markdown",
   "metadata": {},
   "source": [
    "Uh oh! The model failed to generate any numbers after the first iteration - something must have gone wrong."
   ]
  }
 ],
 "metadata": {
  "kernelspec": {
   "display_name": "Python 3",
   "language": "python",
   "name": "python3"
  },
  "language_info": {
   "codemirror_mode": {
    "name": "ipython",
    "version": 3
   },
   "file_extension": ".py",
   "mimetype": "text/x-python",
   "name": "python",
   "nbconvert_exporter": "python",
   "pygments_lexer": "ipython3",
   "version": "3.7.2"
  }
 },
 "nbformat": 4,
 "nbformat_minor": 2
}
